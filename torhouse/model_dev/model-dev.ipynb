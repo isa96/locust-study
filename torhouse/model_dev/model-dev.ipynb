{
 "cells": [
  {
   "cell_type": "code",
   "execution_count": 1,
   "id": "43b4f9ac-3237-4a15-8883-c6a2a41a6196",
   "metadata": {},
   "outputs": [
    {
     "name": "stderr",
     "output_type": "stream",
     "text": [
      "/home/andreas/miniconda3/lib/python3.9/site-packages/tqdm/auto.py:22: TqdmWarning: IProgress not found. Please update jupyter and ipywidgets. See https://ipywidgets.readthedocs.io/en/stable/user_install.html\n",
      "  from .autonotebook import tqdm as notebook_tqdm\n"
     ]
    }
   ],
   "source": [
    "from joblib import dump, load\n",
    "import numpy as np\n",
    "\n",
    "from datasets import load_dataset\n",
    "from sklearn.feature_extraction.text import TfidfVectorizer\n",
    "from sklearn.ensemble import RandomForestClassifier\n",
    "from sklearn.metrics import classification_report"
   ]
  },
  {
   "cell_type": "code",
   "execution_count": 2,
   "id": "4eb9629d-8e84-4017-bf9e-a10d33078de2",
   "metadata": {},
   "outputs": [
    {
     "name": "stderr",
     "output_type": "stream",
     "text": [
      "Downloading builder script: 100%|██████████| 3.09k/3.09k [00:00<00:00, 1.31MB/s]\n",
      "Downloading metadata: 100%|██████████| 1.48k/1.48k [00:00<00:00, 538kB/s]\n",
      "Downloading readme: 100%|██████████| 2.84k/2.84k [00:00<00:00, 2.54MB/s]\n"
     ]
    },
    {
     "name": "stdout",
     "output_type": "stream",
     "text": [
      "Downloading and preparing dataset google-play-review/default (download: 646.80 KiB, generated: 681.31 KiB, post-processed: Unknown size, total: 1.30 MiB) to /home/andreas/.cache/huggingface/datasets/jakartaresearch___google-play-review/default/1.0.0/df84e67f495cc6639ab0bbf74ff0190498a0b22294fdaca26a5b25e090671c29...\n"
     ]
    },
    {
     "name": "stderr",
     "output_type": "stream",
     "text": [
      "Downloading data: 100%|██████████| 456k/456k [00:00<00:00, 1.23MB/s]\n",
      "Downloading data: 100%|██████████| 206k/206k [00:00<00:00, 797kB/s] \n",
      "                                                                                     \r"
     ]
    },
    {
     "name": "stdout",
     "output_type": "stream",
     "text": [
      "Dataset google-play-review downloaded and prepared to /home/andreas/.cache/huggingface/datasets/jakartaresearch___google-play-review/default/1.0.0/df84e67f495cc6639ab0bbf74ff0190498a0b22294fdaca26a5b25e090671c29. Subsequent calls will reuse this data.\n"
     ]
    },
    {
     "name": "stderr",
     "output_type": "stream",
     "text": [
      "100%|██████████| 2/2 [00:00<00:00, 331.91it/s]\n"
     ]
    }
   ],
   "source": [
    "gpr = load_dataset(\"jakartaresearch/google-play-review\")"
   ]
  },
  {
   "cell_type": "code",
   "execution_count": 3,
   "id": "2d218666-6b92-4e32-afc5-55315b3cbd49",
   "metadata": {},
   "outputs": [
    {
     "data": {
      "text/plain": [
       "DatasetDict({\n",
       "    train: Dataset({\n",
       "        features: ['text', 'label', 'stars'],\n",
       "        num_rows: 7028\n",
       "    })\n",
       "    validation: Dataset({\n",
       "        features: ['text', 'label', 'stars'],\n",
       "        num_rows: 3012\n",
       "    })\n",
       "})"
      ]
     },
     "execution_count": 3,
     "metadata": {},
     "output_type": "execute_result"
    }
   ],
   "source": [
    "gpr"
   ]
  },
  {
   "cell_type": "code",
   "execution_count": 4,
   "id": "9d8bb5f3-add5-4b05-a34a-ffa1d3273a08",
   "metadata": {},
   "outputs": [],
   "source": [
    "gpr[\"train\"].set_format('pandas')\n",
    "gpr[\"validation\"].set_format('pandas')"
   ]
  },
  {
   "cell_type": "code",
   "execution_count": 5,
   "id": "830f1231-1c3a-4d73-8c52-3c78bb1331fd",
   "metadata": {},
   "outputs": [],
   "source": [
    "tfidf = TfidfVectorizer()"
   ]
  },
  {
   "cell_type": "code",
   "execution_count": 6,
   "id": "3566154c-2788-4471-8f7c-d95fd079ac44",
   "metadata": {},
   "outputs": [],
   "source": [
    "d_train = gpr['train'][:]\n",
    "d_valid = gpr['validation'][:]"
   ]
  },
  {
   "cell_type": "code",
   "execution_count": 7,
   "id": "fff553d5-6883-40a8-8cb0-31958eef2216",
   "metadata": {},
   "outputs": [
    {
     "data": {
      "text/html": [
       "<div>\n",
       "<style scoped>\n",
       "    .dataframe tbody tr th:only-of-type {\n",
       "        vertical-align: middle;\n",
       "    }\n",
       "\n",
       "    .dataframe tbody tr th {\n",
       "        vertical-align: top;\n",
       "    }\n",
       "\n",
       "    .dataframe thead th {\n",
       "        text-align: right;\n",
       "    }\n",
       "</style>\n",
       "<table border=\"1\" class=\"dataframe\">\n",
       "  <thead>\n",
       "    <tr style=\"text-align: right;\">\n",
       "      <th></th>\n",
       "      <th>text</th>\n",
       "      <th>label</th>\n",
       "      <th>stars</th>\n",
       "    </tr>\n",
       "  </thead>\n",
       "  <tbody>\n",
       "    <tr>\n",
       "      <th>0</th>\n",
       "      <td>Halo\\n blibli. Sedikit saran untuk gratis ong...</td>\n",
       "      <td>pos</td>\n",
       "      <td>4</td>\n",
       "    </tr>\n",
       "    <tr>\n",
       "      <th>1</th>\n",
       "      <td>So far so good. Respon cepat.</td>\n",
       "      <td>pos</td>\n",
       "      <td>5</td>\n",
       "    </tr>\n",
       "    <tr>\n",
       "      <th>2</th>\n",
       "      <td>thank</td>\n",
       "      <td>neg</td>\n",
       "      <td>3</td>\n",
       "    </tr>\n",
       "    <tr>\n",
       "      <th>3</th>\n",
       "      <td>Aplikasi sering not responding di hp saya (as...</td>\n",
       "      <td>neg</td>\n",
       "      <td>2</td>\n",
       "    </tr>\n",
       "    <tr>\n",
       "      <th>4</th>\n",
       "      <td>Gak ada komentar.</td>\n",
       "      <td>pos</td>\n",
       "      <td>5</td>\n",
       "    </tr>\n",
       "  </tbody>\n",
       "</table>\n",
       "</div>"
      ],
      "text/plain": [
       "                                                text label  stars\n",
       "0   Halo\\n blibli. Sedikit saran untuk gratis ong...   pos      4\n",
       "1                      So far so good. Respon cepat.   pos      5\n",
       "2                                              thank   neg      3\n",
       "3   Aplikasi sering not responding di hp saya (as...   neg      2\n",
       "4                                  Gak ada komentar.   pos      5"
      ]
     },
     "execution_count": 7,
     "metadata": {},
     "output_type": "execute_result"
    }
   ],
   "source": [
    "d_train.head()"
   ]
  },
  {
   "cell_type": "code",
   "execution_count": 8,
   "id": "92f27795-2240-4531-8710-bd8d5e3ef6ee",
   "metadata": {},
   "outputs": [
    {
     "data": {
      "text/html": [
       "<div>\n",
       "<style scoped>\n",
       "    .dataframe tbody tr th:only-of-type {\n",
       "        vertical-align: middle;\n",
       "    }\n",
       "\n",
       "    .dataframe tbody tr th {\n",
       "        vertical-align: top;\n",
       "    }\n",
       "\n",
       "    .dataframe thead th {\n",
       "        text-align: right;\n",
       "    }\n",
       "</style>\n",
       "<table border=\"1\" class=\"dataframe\">\n",
       "  <thead>\n",
       "    <tr style=\"text-align: right;\">\n",
       "      <th></th>\n",
       "      <th>text</th>\n",
       "      <th>label</th>\n",
       "      <th>stars</th>\n",
       "    </tr>\n",
       "  </thead>\n",
       "  <tbody>\n",
       "    <tr>\n",
       "      <th>0</th>\n",
       "      <td>bagussss</td>\n",
       "      <td>pos</td>\n",
       "      <td>5</td>\n",
       "    </tr>\n",
       "    <tr>\n",
       "      <th>1</th>\n",
       "      <td>Pengiriman gratis dan produk bervariasi</td>\n",
       "      <td>pos</td>\n",
       "      <td>5</td>\n",
       "    </tr>\n",
       "    <tr>\n",
       "      <th>2</th>\n",
       "      <td>Praktis dan mudah aplikasinya digunakan</td>\n",
       "      <td>pos</td>\n",
       "      <td>5</td>\n",
       "    </tr>\n",
       "    <tr>\n",
       "      <th>3</th>\n",
       "      <td>No comment</td>\n",
       "      <td>neg</td>\n",
       "      <td>2</td>\n",
       "    </tr>\n",
       "    <tr>\n",
       "      <th>4</th>\n",
       "      <td>Aplikasi Belanja Online terbaik di Indonesia ...</td>\n",
       "      <td>pos</td>\n",
       "      <td>5</td>\n",
       "    </tr>\n",
       "  </tbody>\n",
       "</table>\n",
       "</div>"
      ],
      "text/plain": [
       "                                                text label  stars\n",
       "0                                           bagussss   pos      5\n",
       "1            Pengiriman gratis dan produk bervariasi   pos      5\n",
       "2            Praktis dan mudah aplikasinya digunakan   pos      5\n",
       "3                                         No comment   neg      2\n",
       "4   Aplikasi Belanja Online terbaik di Indonesia ...   pos      5"
      ]
     },
     "execution_count": 8,
     "metadata": {},
     "output_type": "execute_result"
    }
   ],
   "source": [
    "d_valid.head()"
   ]
  },
  {
   "cell_type": "code",
   "execution_count": 21,
   "id": "c982c2bc-c32d-418b-b04e-df2b9ed4f70d",
   "metadata": {},
   "outputs": [],
   "source": [
    "d_valid['text_len'] = d_valid.text.apply(len)"
   ]
  },
  {
   "cell_type": "code",
   "execution_count": 30,
   "id": "3efdea6f-bcba-4855-8d10-a2acfd20cdd5",
   "metadata": {},
   "outputs": [
    {
     "data": {
      "text/plain": [
       "[' Really easy to order. Free installment. Free delivery. Soooo recomended. \\nGreat',\n",
       " ' Good Application with good service...need improvement for the varian of product',\n",
       " ' Perbanyak lagi item penjualannya, soale masih kalah jauh dengan olshop tetangga',\n",
       " 'Very good app Loadingnya cepat, cukup mudah penggunaannya, filter kurang lengkap',\n",
       " ' Better service than previous year. No more missing or lacking items in package.',\n",
       " ' sebenarnya sangat mudah pengoperasiannya, tp untuk pemula mungkin agak bingung',\n",
       " ' kerjasama promo dgn vendornya lbh variatif lagi dong, intip2 ecommerce sebelah',\n",
       " ' ok bgt.. gratis ongkir.. cuma barang blm begitu banyak, blom begitu bervariasi',\n",
       " ' aplikasi shoping trhancur yng pernah sya install... verifikasi hp bloon banget',\n",
       " ' application was good but still my phone lagging very often pls fixed it thanks']"
      ]
     },
     "execution_count": 30,
     "metadata": {},
     "output_type": "execute_result"
    }
   ],
   "source": [
    "d_valid[d_valid.text_len.between(40, 80)].sort_values('text_len', ascending=False).text.head(10).tolist()"
   ]
  },
  {
   "cell_type": "code",
   "execution_count": 9,
   "id": "1bbe3fa3-f6b5-4ac4-b238-13fef7579d71",
   "metadata": {},
   "outputs": [],
   "source": [
    "d_train_mat = tfidf.fit_transform(d_train.text)"
   ]
  },
  {
   "cell_type": "code",
   "execution_count": 10,
   "id": "4a1111ca-24c4-47c2-a9f0-737f879892e0",
   "metadata": {},
   "outputs": [],
   "source": [
    "d_valid_mat = tfidf.transform(d_valid.text)"
   ]
  },
  {
   "cell_type": "code",
   "execution_count": 11,
   "id": "38ff4468-a5fa-4592-b2a4-51a94dff866e",
   "metadata": {},
   "outputs": [],
   "source": [
    "rfc = RandomForestClassifier()"
   ]
  },
  {
   "cell_type": "code",
   "execution_count": 12,
   "id": "37b0a541-ef6d-4b74-b9d6-14f5a440131b",
   "metadata": {},
   "outputs": [
    {
     "data": {
      "text/html": [
       "<style>#sk-container-id-1 {color: black;background-color: white;}#sk-container-id-1 pre{padding: 0;}#sk-container-id-1 div.sk-toggleable {background-color: white;}#sk-container-id-1 label.sk-toggleable__label {cursor: pointer;display: block;width: 100%;margin-bottom: 0;padding: 0.3em;box-sizing: border-box;text-align: center;}#sk-container-id-1 label.sk-toggleable__label-arrow:before {content: \"▸\";float: left;margin-right: 0.25em;color: #696969;}#sk-container-id-1 label.sk-toggleable__label-arrow:hover:before {color: black;}#sk-container-id-1 div.sk-estimator:hover label.sk-toggleable__label-arrow:before {color: black;}#sk-container-id-1 div.sk-toggleable__content {max-height: 0;max-width: 0;overflow: hidden;text-align: left;background-color: #f0f8ff;}#sk-container-id-1 div.sk-toggleable__content pre {margin: 0.2em;color: black;border-radius: 0.25em;background-color: #f0f8ff;}#sk-container-id-1 input.sk-toggleable__control:checked~div.sk-toggleable__content {max-height: 200px;max-width: 100%;overflow: auto;}#sk-container-id-1 input.sk-toggleable__control:checked~label.sk-toggleable__label-arrow:before {content: \"▾\";}#sk-container-id-1 div.sk-estimator input.sk-toggleable__control:checked~label.sk-toggleable__label {background-color: #d4ebff;}#sk-container-id-1 div.sk-label input.sk-toggleable__control:checked~label.sk-toggleable__label {background-color: #d4ebff;}#sk-container-id-1 input.sk-hidden--visually {border: 0;clip: rect(1px 1px 1px 1px);clip: rect(1px, 1px, 1px, 1px);height: 1px;margin: -1px;overflow: hidden;padding: 0;position: absolute;width: 1px;}#sk-container-id-1 div.sk-estimator {font-family: monospace;background-color: #f0f8ff;border: 1px dotted black;border-radius: 0.25em;box-sizing: border-box;margin-bottom: 0.5em;}#sk-container-id-1 div.sk-estimator:hover {background-color: #d4ebff;}#sk-container-id-1 div.sk-parallel-item::after {content: \"\";width: 100%;border-bottom: 1px solid gray;flex-grow: 1;}#sk-container-id-1 div.sk-label:hover label.sk-toggleable__label {background-color: #d4ebff;}#sk-container-id-1 div.sk-serial::before {content: \"\";position: absolute;border-left: 1px solid gray;box-sizing: border-box;top: 0;bottom: 0;left: 50%;z-index: 0;}#sk-container-id-1 div.sk-serial {display: flex;flex-direction: column;align-items: center;background-color: white;padding-right: 0.2em;padding-left: 0.2em;position: relative;}#sk-container-id-1 div.sk-item {position: relative;z-index: 1;}#sk-container-id-1 div.sk-parallel {display: flex;align-items: stretch;justify-content: center;background-color: white;position: relative;}#sk-container-id-1 div.sk-item::before, #sk-container-id-1 div.sk-parallel-item::before {content: \"\";position: absolute;border-left: 1px solid gray;box-sizing: border-box;top: 0;bottom: 0;left: 50%;z-index: -1;}#sk-container-id-1 div.sk-parallel-item {display: flex;flex-direction: column;z-index: 1;position: relative;background-color: white;}#sk-container-id-1 div.sk-parallel-item:first-child::after {align-self: flex-end;width: 50%;}#sk-container-id-1 div.sk-parallel-item:last-child::after {align-self: flex-start;width: 50%;}#sk-container-id-1 div.sk-parallel-item:only-child::after {width: 0;}#sk-container-id-1 div.sk-dashed-wrapped {border: 1px dashed gray;margin: 0 0.4em 0.5em 0.4em;box-sizing: border-box;padding-bottom: 0.4em;background-color: white;}#sk-container-id-1 div.sk-label label {font-family: monospace;font-weight: bold;display: inline-block;line-height: 1.2em;}#sk-container-id-1 div.sk-label-container {text-align: center;}#sk-container-id-1 div.sk-container {/* jupyter's `normalize.less` sets `[hidden] { display: none; }` but bootstrap.min.css set `[hidden] { display: none !important; }` so we also need the `!important` here to be able to override the default hidden behavior on the sphinx rendered scikit-learn.org. See: https://github.com/scikit-learn/scikit-learn/issues/21755 */display: inline-block !important;position: relative;}#sk-container-id-1 div.sk-text-repr-fallback {display: none;}</style><div id=\"sk-container-id-1\" class=\"sk-top-container\"><div class=\"sk-text-repr-fallback\"><pre>RandomForestClassifier()</pre><b>In a Jupyter environment, please rerun this cell to show the HTML representation or trust the notebook. <br />On GitHub, the HTML representation is unable to render, please try loading this page with nbviewer.org.</b></div><div class=\"sk-container\" hidden><div class=\"sk-item\"><div class=\"sk-estimator sk-toggleable\"><input class=\"sk-toggleable__control sk-hidden--visually\" id=\"sk-estimator-id-1\" type=\"checkbox\" checked><label for=\"sk-estimator-id-1\" class=\"sk-toggleable__label sk-toggleable__label-arrow\">RandomForestClassifier</label><div class=\"sk-toggleable__content\"><pre>RandomForestClassifier()</pre></div></div></div></div></div>"
      ],
      "text/plain": [
       "RandomForestClassifier()"
      ]
     },
     "execution_count": 12,
     "metadata": {},
     "output_type": "execute_result"
    }
   ],
   "source": [
    "rfc.fit(d_train_mat, d_train.label)"
   ]
  },
  {
   "cell_type": "code",
   "execution_count": 13,
   "id": "33a760dc-6ddb-48e5-b10f-b9666663b8e9",
   "metadata": {},
   "outputs": [],
   "source": [
    "y_pred = rfc.predict(d_valid_mat)"
   ]
  },
  {
   "cell_type": "code",
   "execution_count": 14,
   "id": "c47fdf37-e352-406e-8e79-c5787d143523",
   "metadata": {},
   "outputs": [
    {
     "name": "stdout",
     "output_type": "stream",
     "text": [
      "              precision    recall  f1-score   support\n",
      "\n",
      "         neg       0.81      0.63      0.71       480\n",
      "         pos       0.93      0.97      0.95      2532\n",
      "\n",
      "    accuracy                           0.92      3012\n",
      "   macro avg       0.87      0.80      0.83      3012\n",
      "weighted avg       0.91      0.92      0.91      3012\n",
      "\n"
     ]
    }
   ],
   "source": [
    "print(classification_report(d_valid.label, y_pred))"
   ]
  },
  {
   "cell_type": "code",
   "execution_count": 15,
   "id": "70763990-33f6-4420-8998-28e04ac92fb6",
   "metadata": {},
   "outputs": [
    {
     "data": {
      "text/plain": [
       "['model.joblib']"
      ]
     },
     "execution_count": 15,
     "metadata": {},
     "output_type": "execute_result"
    }
   ],
   "source": [
    "dump(rfc, 'model.joblib')"
   ]
  },
  {
   "cell_type": "code",
   "execution_count": 16,
   "id": "c624b4e9-87ac-4638-823a-14ece5d90a0b",
   "metadata": {},
   "outputs": [
    {
     "data": {
      "text/plain": [
       "['tfidf.joblib']"
      ]
     },
     "execution_count": 16,
     "metadata": {},
     "output_type": "execute_result"
    }
   ],
   "source": [
    "dump(tfidf, 'tfidf.joblib')"
   ]
  },
  {
   "cell_type": "markdown",
   "id": "5594b71a-ac79-4231-bed2-bd0e0511b663",
   "metadata": {},
   "source": [
    "## Inference"
   ]
  },
  {
   "cell_type": "code",
   "execution_count": null,
   "id": "547837ed-a877-4bf6-8971-32b6dfd9b5bc",
   "metadata": {},
   "outputs": [],
   "source": [
    "model = load('model.joblib')"
   ]
  },
  {
   "cell_type": "code",
   "execution_count": null,
   "id": "8523c05c-fa01-4aaa-be47-f3786b2cb561",
   "metadata": {},
   "outputs": [],
   "source": [
    "tfidf = load('tfidf.joblib')"
   ]
  },
  {
   "cell_type": "code",
   "execution_count": null,
   "id": "1aec42e4-3358-4ec7-b6a5-d2a59e36554e",
   "metadata": {},
   "outputs": [],
   "source": [
    "vector = tfidf.transform([\"So far so good. Respon cepat.\"])"
   ]
  },
  {
   "cell_type": "code",
   "execution_count": null,
   "id": "ae5be0bc-b142-445f-bdd6-e37253cc0bba",
   "metadata": {},
   "outputs": [],
   "source": [
    "model.predict(vector)"
   ]
  },
  {
   "cell_type": "code",
   "execution_count": null,
   "id": "b4251afd-30d6-41cc-b94b-160fdd57c386",
   "metadata": {},
   "outputs": [],
   "source": []
  }
 ],
 "metadata": {
  "kernelspec": {
   "display_name": "Python 3",
   "language": "python",
   "name": "python3"
  },
  "language_info": {
   "codemirror_mode": {
    "name": "ipython",
    "version": 3
   },
   "file_extension": ".py",
   "mimetype": "text/x-python",
   "name": "python",
   "nbconvert_exporter": "python",
   "pygments_lexer": "ipython3",
   "version": "3.9.12"
  }
 },
 "nbformat": 4,
 "nbformat_minor": 5
}
